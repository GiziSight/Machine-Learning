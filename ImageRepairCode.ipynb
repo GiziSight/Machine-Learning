{
  "nbformat": 4,
  "nbformat_minor": 0,
  "metadata": {
    "colab": {
      "provenance": []
    },
    "kernelspec": {
      "name": "python3",
      "display_name": "Python 3"
    },
    "language_info": {
      "name": "python"
    }
  },
  "cells": [
    {
      "cell_type": "code",
      "source": [
        "'''\n",
        "this code is created to repair a damaged image and\n",
        "then save it back in .jpg or any given format,\n",
        "but if it fails to be repaired it will be deleted\n",
        "'''"
      ],
      "metadata": {
        "id": "vRXxEYgBCuNX"
      },
      "execution_count": null,
      "outputs": []
    },
    {
      "cell_type": "code",
      "execution_count": null,
      "metadata": {
        "id": "5stfqYo1BcfF"
      },
      "outputs": [],
      "source": [
        "# Import library that needed\n",
        "import os\n",
        "import imageio.v2 as imageio"
      ]
    },
    {
      "cell_type": "code",
      "source": [
        "base dir = '/content/GAMBAR' # YOUR IMAGE DATASET DIRECTORY"
      ],
      "metadata": {
        "id": "9TmgTT3dCJ6L"
      },
      "execution_count": null,
      "outputs": []
    },
    {
      "cell_type": "code",
      "source": [
        "def try_repair_jpeg(file_path):\n",
        "    try:\n",
        "        image = imageio.imread(file_path)\n",
        "        imageio.imsave(file_path, image)\n",
        "        return True\n",
        "    except Exception as e:\n",
        "        return False\n",
        "\n",
        "# Loops through directories and subfolders\n",
        "for foldername, subfolders, filenames in os.walk(base_dir):\n",
        "    for filename in filenames:\n",
        "        file_path = os.path.join(foldername, filename)\n",
        "        if file_path.lower().endswith('.jpg'): # Readjust the code with endswith('.png', '.jpg', '.jpeg') as long as it is in an image format acceptable to tensorflow.\n",
        "            if not try_repair_jpeg(file_path):\n",
        "                print(\"Gagal memperbaiki gambar, dihapus:\", file_path)\n",
        "                os.remove(file_path)\n",
        "            else:\n",
        "                print(\"Berhasil memperbaiki gambar:\", file_path)\n",
        "\n",
        "print(\"Selesai\")"
      ],
      "metadata": {
        "id": "qsCgDyUcCScz"
      },
      "execution_count": null,
      "outputs": []
    }
  ]
}